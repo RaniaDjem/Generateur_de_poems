{
 "cells": [
  {
   "cell_type": "markdown",
   "metadata": {},
   "source": [
    "Etudiantes : \n",
    "    Amel MEZEMATE et\n",
    "    Rania DJEMA\n",
    "\n",
    "Promo :\n",
    "    MD5"
   ]
  },
  {
   "cell_type": "code",
   "execution_count": 2,
   "metadata": {},
   "outputs": [],
   "source": [
    "import os\n",
    "import random\n",
    "import nltk\n",
    "from nltk.tokenize import word_tokenize\n",
    "from nltk.corpus import stopwords\n",
    "from nltk.probability import FreqDist"
   ]
  },
  {
   "cell_type": "code",
   "execution_count": 3,
   "metadata": {},
   "outputs": [
    {
     "name": "stderr",
     "output_type": "stream",
     "text": [
      "[nltk_data] Downloading package punkt to\n",
      "[nltk_data]     C:\\Users\\boss\\AppData\\Roaming\\nltk_data...\n",
      "[nltk_data]   Package punkt is already up-to-date!\n",
      "[nltk_data] Downloading package stopwords to\n",
      "[nltk_data]     C:\\Users\\boss\\AppData\\Roaming\\nltk_data...\n",
      "[nltk_data]   Package stopwords is already up-to-date!\n"
     ]
    },
    {
     "data": {
      "text/plain": [
       "True"
      ]
     },
     "execution_count": 3,
     "metadata": {},
     "output_type": "execute_result"
    }
   ],
   "source": [
    "#utilisation de nltk\n",
    "nltk.download('punkt')\n",
    "nltk.download('stopwords')"
   ]
  },
  {
   "cell_type": "code",
   "execution_count": 4,
   "metadata": {},
   "outputs": [],
   "source": [
    "# lire les fichiers du dossier et les stocker dans une liste\n",
    "def lire_poemes(dossier):\n",
    "    liste_poemes = []\n",
    "    chemin_dossier = f\"./{dossier}/\"\n",
    "    for fichier in os.listdir(chemin_dossier):\n",
    "        if fichier.endswith(\".txt\"):  # On suppose que les poèmes sont stockés dans des fichiers .txt\n",
    "            with open(chemin_dossier + fichier, \"r\", encoding=\"utf-8\") as f:\n",
    "                poeme = f.read()\n",
    "                liste_poemes.append(poeme)\n",
    "    return liste_poemes"
   ]
  },
  {
   "cell_type": "code",
   "execution_count": 6,
   "metadata": {},
   "outputs": [],
   "source": [
    "# Fonction pour sélectionner un poème au hasard dans un dossier donné\n",
    "def poeme_au_hasard(dossier):\n",
    "    if dossier in poemes:\n",
    "        return random.choice(poemes[dossier])\n",
    "    else:\n",
    "        return \"Dossier non trouvé.\""
   ]
  },
  {
   "cell_type": "code",
   "execution_count": 8,
   "metadata": {},
   "outputs": [],
   "source": [
    "# lire les fichiers du dossier et les stocker dans une liste\n",
    "def lire_poemes(dossier):\n",
    "    liste_poemes = []\n",
    "    chemin_dossier = f\"./{dossier}/\"\n",
    "    for fichier in os.listdir(chemin_dossier):\n",
    "        if fichier.endswith(\".txt\"):  # les poèmes sont stockés dans des fichiers .txt\n",
    "            with open(chemin_dossier + fichier, \"r\", encoding=\"utf-8\") as f:\n",
    "                poeme = f.read()\n",
    "                liste_poemes.append(poeme)\n",
    "    return liste_poemes"
   ]
  },
  {
   "cell_type": "code",
   "execution_count": 9,
   "metadata": {},
   "outputs": [],
   "source": [
    "# Sélectionner un poème au hasard dans un dossier donné\n",
    "def poeme_au_hasard(dossier):\n",
    "    if dossier in poemes:\n",
    "        return random.choice(poemes[dossier])\n",
    "    else:\n",
    "        return \"Dossier non trouvé.\""
   ]
  },
  {
   "cell_type": "code",
   "execution_count": 10,
   "metadata": {},
   "outputs": [],
   "source": [
    "# Analyser les mots les plus fréquents dans un poème\n",
    "def mots_frequents(poeme):\n",
    "    mots = word_tokenize(poeme)\n",
    "    mots_sans_stopwords = [mot.lower() for mot in mots if mot.isalpha() and mot.lower() not in stopwords.words('english')]\n",
    "    fdist = FreqDist(mots_sans_stopwords)\n",
    "    return fdist.most_common(5)"
   ]
  },
  {
   "cell_type": "code",
   "execution_count": 11,
   "metadata": {},
   "outputs": [
    {
     "name": "stdout",
     "output_type": "stream",
     "text": [
      "Choisissez un dossier parmi : cacophony, haiku, sonnet, kyrielle\n"
     ]
    },
    {
     "name": "stdout",
     "output_type": "stream",
     "text": [
      "\n",
      "Poème choisi au hasard :\n",
      "pretty woman\n",
      "wrinkled woman show girls picture\n",
      "of her uncreased days\n",
      "inspired by\n",
      "Phenomenal Woman\n",
      "Pretty women wonder where my secret lies.\n",
      "I'm not cute or built to suit a fashion model's size\n",
      "But when I start to tell them,\n",
      "They think I'm telling lies.\n",
      "I say,\n",
      "It's in the reach of my arms\n",
      "The span of my hips,\n",
      "The stride of my step,\n",
      "The curl of my lips.\n",
      "I'm a woman\n",
      "Phenomenally.\n",
      "Phenomenal woman,\n",
      "That's me.\n",
      "I walk into a room\n",
      "Just as cool as you please,\n",
      "And to a man,\n",
      "The fellows stand or\n",
      "Fall down on their knees.\n",
      "Then they swarm around me,\n",
      "A hive of honey bees.\n",
      "I say,\n",
      "It's the fire in my eyes,\n",
      "And the flash of my teeth,\n",
      "The swing in my waist,\n",
      "And the joy in my feet.\n",
      "I'm a woman\n",
      "Phenomenally.\n",
      "Phenomenal woman,\n",
      "That's me.\n",
      "Men themselves have wondered\n",
      "What they see in me.\n",
      "They try so much\n",
      "But they can't touch\n",
      "My inner mystery.\n",
      "When I try to show them\n",
      "They say they still can't see.\n",
      "I say,\n",
      "It's in the arch of my back,\n",
      "The sun of my smile,\n",
      "The ride of my breasts,\n",
      "The grace of my style.\n",
      "I'm a woman\n",
      "Phenomenally.\n",
      "Phenomenal woman,\n",
      "That's me.\n",
      "Now you understand\n",
      "Just why my head's not bowed.\n",
      "I don't shout or jump about\n",
      "Or have to talk real loud.\n",
      "When you see me passing\n",
      "It ought to make you proud.\n",
      "I say,\n",
      "It's in the click of my heels,\n",
      "The bend of my hair,\n",
      "the palm of my hand,\n",
      "The need of my care,\n",
      "'Cause I'm a woman\n",
      "Phenomenally.\n",
      "Phenomenal woman,\n",
      "That's me.\n",
      "Maya Angelou\n",
      "\n",
      "Mots les plus fréquents dans le poème :\n",
      "woman: 11\n",
      "phenomenal: 5\n",
      "say: 5\n",
      "phenomenally: 4\n",
      "see: 3\n"
     ]
    }
   ],
   "source": [
    "# Stocker les poèmes dans un dictionnaire\n",
    "poemes = {}\n",
    "dossiers = [\"cacophony\", \"haiku\", \"sonnet\", \"kyrielle\"]\n",
    "for dossier in dossiers:\n",
    "    poemes[dossier] = lire_poemes(dossier)\n",
    "\n",
    "# Demander à l'utilisateur de choisir un dossier\n",
    "print(\"Choisissez un dossier parmi : cacophony, haiku, sonnet, kyrielle\")\n",
    "dossier_selectionne = input(\"Votre choix : \")\n",
    "\n",
    "# Récupérer un poème au hasard du dossier sélectionné\n",
    "poeme_choisi = poeme_au_hasard(dossier_selectionne)\n",
    "print(\"\\nPoème choisi au hasard :\")\n",
    "print(poeme_choisi)\n",
    "\n",
    "# Analyse des mots les plus fréquents dans le poème choisi\n",
    "print(\"\\nMots les plus fréquents dans le poème :\")\n",
    "mots_freq = mots_frequents(poeme_choisi)\n",
    "for mot, freq in mots_freq:\n",
    "    print(f\"{mot}: {freq}\")\n"
   ]
  }
 ],
 "metadata": {
  "kernelspec": {
   "display_name": "base",
   "language": "python",
   "name": "python3"
  },
  "language_info": {
   "codemirror_mode": {
    "name": "ipython",
    "version": 3
   },
   "file_extension": ".py",
   "mimetype": "text/x-python",
   "name": "python",
   "nbconvert_exporter": "python",
   "pygments_lexer": "ipython3",
   "version": "3.10.9"
  }
 },
 "nbformat": 4,
 "nbformat_minor": 2
}
